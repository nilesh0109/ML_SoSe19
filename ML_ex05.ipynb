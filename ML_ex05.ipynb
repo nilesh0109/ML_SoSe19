{
  "nbformat": 4,
  "nbformat_minor": 0,
  "metadata": {
    "colab": {
      "name": "ML_ex05.ipynb",
      "version": "0.3.2",
      "provenance": [],
      "collapsed_sections": [],
      "include_colab_link": true
    },
    "kernelspec": {
      "name": "python3",
      "display_name": "Python 3"
    }
  },
  "cells": [
    {
      "cell_type": "markdown",
      "metadata": {
        "id": "view-in-github",
        "colab_type": "text"
      },
      "source": [
        "<a href=\"https://colab.research.google.com/github/nilesh0109/ML_SoSe19/blob/master/ML_ex05.ipynb\" target=\"_parent\"><img src=\"https://colab.research.google.com/assets/colab-badge.svg\" alt=\"Open In Colab\"/></a>"
      ]
    },
    {
      "cell_type": "code",
      "metadata": {
        "id": "gQMdxCzRfnDD",
        "colab_type": "code",
        "colab": {}
      },
      "source": [
        "import numpy as np\n",
        "import pandas as pd\n",
        "import matplotlib.pyplot as plt\n",
        "import seaborn as sns\n",
        "import re"
      ],
      "execution_count": 0,
      "outputs": []
    },
    {
      "cell_type": "code",
      "metadata": {
        "id": "ai3s3cQKgLVF",
        "colab_type": "code",
        "colab": {}
      },
      "source": [
        "data = np.loadtxt('dataCircle.txt')\n",
        "df = pd.DataFrame(data, columns=['x1', 'x2', 'label'])"
      ],
      "execution_count": 0,
      "outputs": []
    },
    {
      "cell_type": "code",
      "metadata": {
        "id": "jT8wy54EialJ",
        "colab_type": "code",
        "outputId": "bb64044c-d963-4830-ce0a-a79d0daec860",
        "colab": {
          "base_uri": "https://localhost:8080/",
          "height": 409
        }
      },
      "source": [
        "fig, ax= plt.subplots(1,1, figsize=(14,6))\n",
        "sns.scatterplot(df['x1'], df['x2'], hue=df['label'], hue_norm=(0,1), ax=ax)"
      ],
      "execution_count": 3,
      "outputs": [
        {
          "output_type": "execute_result",
          "data": {
            "text/plain": [
              "<matplotlib.axes._subplots.AxesSubplot at 0x7f87f7682470>"
            ]
          },
          "metadata": {
            "tags": []
          },
          "execution_count": 3
        },
        {
          "output_type": "display_data",
          "data": {
            "image/png": "[encoded data removed]",
            "text/plain": [
              "<Figure size 1008x432 with 1 Axes>"
            ]
          },
          "metadata": {
            "tags": []
          }
        }
      ]
    },
    {
      "cell_type": "code",
      "metadata": {
        "id": "WT4FsxmAh-h1",
        "colab_type": "code",
        "colab": {}
      },
      "source": [
        "#Step 1\n",
        "#Giving initial weights and changing labels from 0.0 to -1.0\n",
        "data_len = len(data)\n",
        "df['weights'] = 1/data_len\n",
        "df = df.replace({'label': {0.0: -1.0}})\n",
        "#print(df)"
      ],
      "execution_count": 0,
      "outputs": []
    },
    {
      "cell_type": "code",
      "metadata": {
        "id": "cZlWeI8SmY43",
        "colab_type": "code",
        "colab": {}
      },
      "source": [
        "#step 2 Defining several weak classifiers hx > value and hy > value is correct\n",
        "def get_weak_classifier(threshold, column_name, data):\n",
        "  out1 = np.array([1.0 if item > threshold else -1.0 for item in data[column_name]])\n",
        "  out2 = np.array([1.0 if item <= threshold else -1.0 for item in data[column_name]])\n",
        "  num_correct_1 = np.sum(data['label'] == out1)\n",
        "  num_correct_2 = np.sum(data['label'] == out2)\n",
        "  #print(num_correct_1, '  ', num_correct_2)\n",
        "  if(num_correct_2 > num_correct_1):\n",
        "    rule = column_name + ' <= ' + str(threshold)\n",
        "    out = out2\n",
        "  else:\n",
        "    rule = column_name + ' > ' + str(threshold)\n",
        "    out=out1\n",
        "  return (rule, out)\n",
        "hx1 = np.arange(-10,12,1)\n",
        "hx2 = np.arange(-10,12,1)\n",
        "weak_classifiers = {}\n",
        "\n",
        "for i in range(len(hx1)):\n",
        "  rule, output=get_weak_classifier(hx1[i], 'x1', df)\n",
        "  weak_classifiers.update({\n",
        "     rule: output\n",
        "  })\n",
        "\n",
        "for i in range(len(hx2)):\n",
        "  rule, output=get_weak_classifier(hx2[i], 'x2', df)\n",
        "  weak_classifiers.update({\n",
        "     rule: output\n",
        "  })\n",
        "#print(weak_classifiers)\n"
      ],
      "execution_count": 0,
      "outputs": []
    },
    {
      "cell_type": "code",
      "metadata": {
        "id": "BSTmCox51jKX",
        "colab_type": "code",
        "colab": {}
      },
      "source": [
        "def getErrorList(ground_truth, prediction):\n",
        "  return np.array([0 if prediction[ind] == ground_truth[ind] else 1 for ind in range(len(prediction))])\n",
        "\n",
        "def getLossParam(ground_truth, prediction):\n",
        "  return np.array([1 if prediction[ind] == ground_truth[ind] else -1 for ind in range(len(prediction))])"
      ],
      "execution_count": 0,
      "outputs": []
    },
    {
      "cell_type": "code",
      "metadata": {
        "id": "PCuo5nzom9bM",
        "colab_type": "code",
        "outputId": "ffcebbf9-2623-48eb-d1b4-8ec79619ebbe",
        "colab": {
          "base_uri": "https://localhost:8080/",
          "height": 1802
        }
      },
      "source": [
        "#step 3 : Take the best week classifier\n",
        "\n",
        "weight_alphas=[]\n",
        "selected_classifiers_name = []\n",
        "#print(indices_to_classify)\n",
        "\n",
        "for j in range(35):\n",
        "  lowest_error =100\n",
        "  lowest_error_key= ''\n",
        "  for rule, out in weak_classifiers.items():\n",
        "    if(rule not in selected_classifiers_name):\n",
        "      temp = getErrorList(df['label'], out)\n",
        "      error_score = np.sum(temp * df['weights'])\n",
        "      \n",
        "      if error_score <= lowest_error:\n",
        "        lowest_error_key = rule\n",
        "        lowest_error = error_score\n",
        "        #lowest_error_temp = temp\n",
        "  #print(lowest_error_temp)      \n",
        "  #indices_to_classify = np.where(lowest_error_temp == 1)[0]\n",
        " # print(np.shape(indices_to_classify))\n",
        "  #print('--------------------------')\n",
        "  #print(indices_to_classify)\n",
        "  #print(np.shape(indices_to_classify))\n",
        "  print('best weak classifier is ', lowest_error_key)\n",
        "  alpha = 0.5 * np.log((1 - lowest_error)/lowest_error)\n",
        "  weight_alphas.append(alpha)\n",
        "  selected_classifiers_name.append(lowest_error_key)\n",
        "  print('error is', lowest_error)\n",
        "  print('alpha is', alpha)\n",
        "  loss_param= getLossParam(df['label'], weak_classifiers[lowest_error_key])\n",
        "  new_weight = np.exp(-alpha * loss_param)\n",
        "  df['weights'] = new_weight/np.sum(new_weight)\n"
      ],
      "execution_count": 7,
      "outputs": [
        {
          "output_type": "stream",
          "text": [
            "best weak classifier is  x2 <= 5\n",
            "error is 0.3823529411764706\n",
            "alpha is 0.23978654013094314\n",
            "best weak classifier is  x2 > 11\n",
            "error is 0.3321123321123321\n",
            "alpha is 0.34932336806299197\n",
            "best weak classifier is  x2 <= 7\n",
            "error is 0.29485855874457995\n",
            "alpha is 0.43595131455268\n",
            "best weak classifier is  x2 > 10\n",
            "error is 0.24931255728689292\n",
            "alpha is 0.5511410087785357\n",
            "best weak classifier is  x1 <= 7\n",
            "error is 0.2356924068998872\n",
            "alpha is 0.5882213612961971\n",
            "best weak classifier is  x2 <= -10\n",
            "error is 0.20157106862309176\n",
            "alpha is 0.6882519719752179\n",
            "best weak classifier is  x1 <= 6\n",
            "error is 0.2084956637758505\n",
            "alpha is 0.6670085570053652\n",
            "best weak classifier is  x1 > 11\n",
            "error is 0.1925683827649574\n",
            "alpha is 0.7167035205914083\n",
            "best weak classifier is  x1 > -6\n",
            "error is 0.20108514019870974\n",
            "alpha is 0.6897629900954139\n",
            "best weak classifier is  x1 > 10\n",
            "error is 0.18696946143494422\n",
            "alpha is 0.7349116879845526\n",
            "best weak classifier is  x2 > -6\n",
            "error is 0.1992043007330851\n",
            "alpha is 0.6956374612489074\n",
            "best weak classifier is  x1 <= -10\n",
            "error is 0.1639756343962973\n",
            "alpha is 0.8144699560433848\n",
            "best weak classifier is  x1 > -7\n",
            "error is 0.17673247002566383\n",
            "alpha is 0.7693220471403883\n",
            "best weak classifier is  x1 <= -9\n",
            "error is 0.16061988694239643\n",
            "alpha is 0.8268115179435329\n",
            "best weak classifier is  x2 > -7\n",
            "error is 0.2142040697716482\n",
            "alpha is 0.6498839851328915\n",
            "best weak classifier is  x2 <= -9\n",
            "error is 0.19763370276872277\n",
            "alpha is 0.7005749509858143\n",
            "best weak classifier is  x2 > -5\n",
            "error is 0.23554560886473586\n",
            "alpha is 0.5886289011226891\n",
            "best weak classifier is  x2 <= -8\n",
            "error is 0.2704537830026176\n",
            "alpha is 0.4961607471386729\n",
            "best weak classifier is  x1 <= 5\n",
            "error is 0.3139668212986413\n",
            "alpha is 0.3908193381694241\n",
            "best weak classifier is  x1 > 9\n",
            "error is 0.3249966584787808\n",
            "alpha is 0.36545137029447644\n",
            "best weak classifier is  x1 <= 4\n",
            "error is 0.30163418914862866\n",
            "alpha is 0.41976403041859695\n",
            "best weak classifier is  x1 > -3\n",
            "error is 0.35468032627524104\n",
            "alpha is 0.29926445888489106\n",
            "best weak classifier is  x1 <= 3\n",
            "error is 0.36706831615478386\n",
            "alpha is 0.2724072568063976\n",
            "best weak classifier is  x1 > -2\n",
            "error is 0.394448389613237\n",
            "alpha is 0.21432574421130457\n",
            "best weak classifier is  x2 <= 3\n",
            "error is 0.39199110754989747\n",
            "alpha is 0.21947517644402217\n",
            "best weak classifier is  x2 > 9\n",
            "error is 0.3991416721545002\n",
            "alpha is 0.20452137872204784\n",
            "best weak classifier is  x2 <= 6\n",
            "error is 0.34221917001628926\n",
            "alpha is 0.3267102054504735\n",
            "best weak classifier is  x1 <= -8\n",
            "error is 0.4169980261546312\n",
            "alpha is 0.16755454183443994\n",
            "best weak classifier is  x1 > -5\n",
            "error is 0.38546902539883915\n",
            "alpha is 0.23319924665312586\n",
            "best weak classifier is  x2 <= 2\n",
            "error is 0.4061693073667857\n",
            "alpha is 0.18991208180125446\n",
            "best weak classifier is  x2 > -4\n",
            "error is 0.4433511535282876\n",
            "alpha is 0.11378623811784862\n",
            "best weak classifier is  x2 <= 1\n",
            "error is 0.3955570636014556\n",
            "alpha is 0.2120061043017993\n",
            "best weak classifier is  x2 > -3\n",
            "error is 0.4348147739397099\n",
            "alpha is 0.13111668889187725\n",
            "best weak classifier is  x2 <= 0\n",
            "error is 0.38890989554640576\n",
            "alpha is 0.22594836648065017\n",
            "best weak classifier is  x1 > -4\n",
            "error is 0.4393262035814863\n",
            "alpha is 0.12194853532622403\n"
          ],
          "name": "stdout"
        }
      ]
    },
    {
      "cell_type": "code",
      "metadata": {
        "id": "gN_WA8bkWK2X",
        "colab_type": "code",
        "colab": {}
      },
      "source": [
        "def getAccuracy(classifier_pred):\n",
        "  classifier_pred_val = [1.0 if val >= 0 else -1.0 for val in classifier_pred]\n",
        "  correct = np.sum(df['label'] == classifier_pred_val)\n",
        "  return (correct * 100 /len(data), classifier_pred_val)"
      ],
      "execution_count": 0,
      "outputs": []
    },
    {
      "cell_type": "code",
      "metadata": {
        "id": "2aCIblQ4G693",
        "colab_type": "code",
        "outputId": "8ae3332f-2f8c-4cab-8d07-72387a24a674",
        "colab": {
          "base_uri": "https://localhost:8080/",
          "height": 105
        }
      },
      "source": [
        "#final_classifier prediction\n",
        "strong_classifier = 0.0\n",
        "strongest_classifier ={'acc': 0.0, 'num_weak_classifiers':0, 'pred': []}\n",
        "best_classifer_count = 0\n",
        "print(weight_alphas)\n",
        "# for i in range(len(weight_alphas)):\n",
        "#   strong_classifier += weight_alphas[i] * weak_classifiers[selected_classifiers_name[i]]\n",
        "\n",
        "for i in range(len(weight_alphas)):\n",
        "  strong_classifier += weight_alphas[i] * weak_classifiers[selected_classifiers_name[i]]\n",
        "  current_classifier_acc, curr_prediction = getAccuracy(strong_classifier)\n",
        "  #print('iteration %d'% i, ' Accuracy is ', current_classifier_acc)\n",
        "  if( current_classifier_acc > strongest_classifier['acc']):\n",
        "    strongest_classifier['acc'] = current_classifier_acc\n",
        "    strongest_classifier['num_weak_classifiers'] = i+1\n",
        "    strongest_classifier['pred'] = curr_prediction\n",
        "    \n",
        "    \n",
        "print(strongest_classifier['acc'])\n",
        "print(strongest_classifier['num_weak_classifiers'])\n",
        "wrong_pred_indices = np.where(strongest_classifier['pred'] != df['label'])\n",
        "print(wrong_pred_indices[0])\n",
        "\n",
        "#strong_classifier = [1.0 if val >= 0 else -1.0 for val in strong_classifier]\n",
        "#print(np.array(strong_classifier))\n",
        "#correct = np.sum(df['label'] == strong_classifier)\n",
        "#print('accuracy is ', correct * 100 /len(data))"
      ],
      "execution_count": 9,
      "outputs": [
        {
          "output_type": "stream",
          "text": [
            "[0.23978654013094314, 0.34932336806299197, 0.43595131455268, 0.5511410087785357, 0.5882213612961971, 0.6882519719752179, 0.6670085570053652, 0.7167035205914083, 0.6897629900954139, 0.7349116879845526, 0.6956374612489074, 0.8144699560433848, 0.7693220471403883, 0.8268115179435329, 0.6498839851328915, 0.7005749509858143, 0.5886289011226891, 0.4961607471386729, 0.3908193381694241, 0.36545137029447644, 0.41976403041859695, 0.29926445888489106, 0.2724072568063976, 0.21432574421130457, 0.21947517644402217, 0.20452137872204784, 0.3267102054504735, 0.16755454183443994, 0.23319924665312586, 0.18991208180125446, 0.11378623811784862, 0.2120061043017993, 0.13111668889187725, 0.22594836648065017, 0.12194853532622403]\n",
            "93.13725490196079\n",
            "11\n",
            "[ 5 19 21 31 36 56 78]\n"
          ],
          "name": "stdout"
        }
      ]
    },
    {
      "cell_type": "code",
      "metadata": {
        "id": "cN6zC1BSU2mS",
        "colab_type": "code",
        "outputId": "8a89df05-da8a-4d01-b26c-d263d9fc60b7",
        "colab": {
          "base_uri": "https://localhost:8080/",
          "height": 446
        }
      },
      "source": [
        "df = df.replace({'label': {-1.0: 0.0}})\n",
        "fig, ax= plt.subplots(1,1, figsize=(18,7))\n",
        "\n",
        "sns.scatterplot(df['x1'], df['x2'], hue=df['label'], ax=ax, hue_norm=(0,1))\n",
        "for i in range(strongest_classifier['num_weak_classifiers']):\n",
        "  classifer_eq = selected_classifiers_name[i]\n",
        "  #print(classifer_eq)\n",
        "  reg_exp = re.match(\"^(x[1,2]).* ([-\\d\\.]+)$\", classifer_eq)\n",
        "  column_name = reg_exp.group(1)\n",
        "  inequality_value = reg_exp.group(2)\n",
        "  X = np.arange(-10,11) if column_name == 'x2' else [float(inequality_value)]* 21\n",
        "  y = np.arange(-10,11) if column_name == 'x1' else [float(inequality_value)]* 21\n",
        "  ax.plot(X, y, label=classifer_eq)\n",
        "  plt.legend()\n",
        "plt.show()\n",
        "\n"
      ],
      "execution_count": 13,
      "outputs": [
        {
          "output_type": "display_data",
          "data": {
            "image/png": "[encoded data removed]",
            "text/plain": [
              "<Figure size 1296x504 with 1 Axes>"
            ]
          },
          "metadata": {
            "tags": []
          }
        }
      ]
    }
  ]
}