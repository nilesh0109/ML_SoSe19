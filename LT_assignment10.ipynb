{
  "nbformat": 4,
  "nbformat_minor": 0,
  "metadata": {
    "colab": {
      "name": "LT_assignment10.ipynb",
      "version": "0.3.2",
      "provenance": [],
      "collapsed_sections": [],
      "include_colab_link": true
    },
    "kernelspec": {
      "name": "python3",
      "display_name": "Python 3"
    }
  },
  "cells": [
    {
      "cell_type": "markdown",
      "metadata": {
        "id": "view-in-github",
        "colab_type": "text"
      },
      "source": [
        "<a href=\"https://colab.research.google.com/github/nilesh0109/ML_SoSe19/blob/master/LT_assignment10.ipynb\" target=\"_parent\"><img src=\"https://colab.research.google.com/assets/colab-badge.svg\" alt=\"Open In Colab\"/></a>"
      ]
    },
    {
      "cell_type": "code",
      "metadata": {
        "id": "-_CbVbrU_pkj",
        "colab_type": "code",
        "colab": {}
      },
      "source": [
        "import numpy as np"
      ],
      "execution_count": 0,
      "outputs": []
    },
    {
      "cell_type": "markdown",
      "metadata": {
        "id": "hKWiU5lhN6jZ",
        "colab_type": "text"
      },
      "source": [
        "# PAGE RANK CLASS"
      ]
    },
    {
      "cell_type": "code",
      "metadata": {
        "id": "bHsJEJX0_3RU",
        "colab_type": "code",
        "colab": {}
      },
      "source": [
        "class PageRank:\n",
        "  def __init__(self, graph, damping_factor=0.85):\n",
        "    self.graph = graph\n",
        "    self.nodes = list(self.graph.keys())\n",
        "    self.num_nodes = len(self.nodes)\n",
        "    self.ranks = {node: (1 / self.num_nodes) for node in self.nodes}\n",
        "    self.damping_factor = damping_factor\n",
        "    \n",
        "  def get_incoming_nodes(self, node_to_find):\n",
        "    incoming_node = []\n",
        "    for node in self.nodes:\n",
        "      if node_to_find in self.graph[node]:\n",
        "        incoming_node.append(node)\n",
        "    return incoming_node\n",
        "  \n",
        "  def rank_calcutaion(self, num_iterations=10, method='matrix'):\n",
        "    for iter in range(num_iterations):\n",
        "      if method=='matrix':\n",
        "        self.pagerank_by_matrix()\n",
        "      else:\n",
        "        self.pagerank_by_sum()\n",
        "    \n",
        "  def pagerank_by_sum(self):\n",
        "    ranks_copy = self.ranks.copy()\n",
        "    for node, rank in self.ranks.items():\n",
        "      s=0\n",
        "      for incoming_node in self.get_incoming_nodes(node):\n",
        "        s += self.ranks[incoming_node] / len(self.graph[incoming_node])\n",
        "      ranks_copy[node] = s * self.damping_factor + (1 - self.damping_factor) / self.num_nodes\n",
        "    self.ranks = ranks_copy\n",
        "      \n",
        "  def sort_by_rank(self):\n",
        "    return sorted(self.ranks.items(), key=lambda item: item[1], reverse=True)\n",
        "  \n",
        "  def pagerank_by_matrix(self):\n",
        "    D = np.array([1 / self.num_nodes for node in self.nodes])\n",
        "    R = np.array([rank for item,rank in self.ranks.items()])\n",
        "    d = self.damping_factor\n",
        "    Adajency_matrix = np.zeros((self.num_nodes, self.num_nodes))\n",
        "    for i, node_key in enumerate(self.graph):\n",
        "      for node in self.graph[node_key]:\n",
        "        j = self.nodes.index(node)\n",
        "        Adajency_matrix[i,j]=1\n",
        "        \n",
        "    A_sum = Adajency_matrix.sum(axis=1, keepdims= True)\n",
        "    #to avoid divide by zero error\n",
        "    A_sum = np.where(A_sum==0, 1, A_sum)\n",
        "    B_ij = Adajency_matrix/ A_sum\n",
        "    R = (1-d)*D + (d * B_ij.T).dot(R)\n",
        "    self.ranks = {self.nodes[i]:r for i,r in enumerate(R)}"
      ],
      "execution_count": 0,
      "outputs": []
    },
    {
      "cell_type": "markdown",
      "metadata": {
        "id": "q5aHUVw3OAn-",
        "colab_type": "text"
      },
      "source": [
        "# SAMPLE GRAPH RANK CALCULATION FOR SANITY"
      ]
    },
    {
      "cell_type": "code",
      "metadata": {
        "id": "CarUYTWwCF8L",
        "colab_type": "code",
        "colab": {}
      },
      "source": [
        "g_sample = {\n",
        "    'A' : {'B'},\n",
        "    'B' : {'C', 'D'},\n",
        "    'C' : {'A'},\n",
        "    'D' : {'C'}\n",
        "}"
      ],
      "execution_count": 0,
      "outputs": []
    },
    {
      "cell_type": "code",
      "metadata": {
        "id": "js5kNdxvQq2h",
        "colab_type": "code",
        "outputId": "3f84d2c2-31f2-4cdb-ec04-bd2db74521ad",
        "colab": {
          "base_uri": "https://localhost:8080/",
          "height": 136
        }
      },
      "source": [
        "p_sample = PageRank(g_sample)\n",
        "p_sample.rank_calcutaion(10, 'sum')\n",
        "print(p_sample.ranks)\n",
        "print('________________')\n",
        "p_sample = PageRank(g_sample)\n",
        "p_sample.rank_calcutaion(10)\n",
        "print(p_sample.ranks)\n",
        "p_sample.sort_by_rank()"
      ],
      "execution_count": 0,
      "outputs": [
        {
          "output_type": "stream",
          "text": [
            "{'A': 0.2808434223568451, 'B': 0.28144638536861877, 'C': 0.2832102166755234, 'D': 0.15449997559901277}\n",
            "________________\n",
            "{'A': 0.2808434223568451, 'B': 0.28144638536861877, 'C': 0.2832102166755234, 'D': 0.15449997559901277}\n"
          ],
          "name": "stdout"
        },
        {
          "output_type": "execute_result",
          "data": {
            "text/plain": [
              "[('C', 0.2832102166755234),\n",
              " ('B', 0.28144638536861877),\n",
              " ('A', 0.2808434223568451),\n",
              " ('D', 0.15449997559901277)]"
            ]
          },
          "metadata": {
            "tags": []
          },
          "execution_count": 32
        }
      ]
    },
    {
      "cell_type": "markdown",
      "metadata": {
        "id": "sMDY-zoWONuB",
        "colab_type": "text"
      },
      "source": [
        "# PRACTICE CLASS GRAPH RANK"
      ]
    },
    {
      "cell_type": "code",
      "metadata": {
        "id": "o5EMsRclOjBG",
        "colab_type": "code",
        "colab": {}
      },
      "source": [
        "g_practice = {\n",
        "    'A' : {'C'},\n",
        "    'B' : {'A'},\n",
        "    'C' : {'B'},\n",
        "    'D' : {'B', 'E'},\n",
        "    'E' : {'B'}\n",
        "}"
      ],
      "execution_count": 0,
      "outputs": []
    },
    {
      "cell_type": "code",
      "metadata": {
        "id": "1d2DOqv9Onkx",
        "colab_type": "code",
        "outputId": "8e425381-c044-47f5-fac7-fe8ed8e0678d",
        "colab": {
          "base_uri": "https://localhost:8080/",
          "height": 88
        }
      },
      "source": [
        "p_practice = PageRank(g_practice)\n",
        "p_practice.rank_calcutaion(10, 'sum')\n",
        "print(p_practice.ranks)\n",
        "print('________________')\n",
        "p_practice = PageRank(g_practice)\n",
        "p_practice.rank_calcutaion(10)\n",
        "print(p_practice.ranks)\n",
        "#p_practice.sort_by_rank()"
      ],
      "execution_count": 0,
      "outputs": [
        {
          "output_type": "stream",
          "text": [
            "{'A': 0.28308468461788094, 'B': 0.3568090090879591, 'C': 0.2873563062941603, 'D': 0.030000000000000006, 'E': 0.04275000000000001}\n",
            "________________\n",
            "{'A': 0.28308468461788094, 'B': 0.3568090090879591, 'C': 0.2873563062941603, 'D': 0.030000000000000006, 'E': 0.04275000000000001}\n"
          ],
          "name": "stdout"
        }
      ]
    },
    {
      "cell_type": "markdown",
      "metadata": {
        "id": "ByUaTZ1eOT-8",
        "colab_type": "text"
      },
      "source": [
        "# ASSIGNMENT GRAPH RANK"
      ]
    },
    {
      "cell_type": "code",
      "metadata": {
        "id": "IDK1LU2CEsJo",
        "colab_type": "code",
        "outputId": "50c6c143-04d3-4159-d950-34371316d898",
        "colab": {
          "base_uri": "https://localhost:8080/",
          "height": 190
        }
      },
      "source": [
        "g_assignment = {\n",
        "    'A' : {'B', 'D'},\n",
        "    'B' : {'D', 'E'},\n",
        "    'C' : {'A', 'F'},\n",
        "    'D' : {'C', 'E', 'F', 'G'},\n",
        "    'E' : {'G'},\n",
        "    'F' : {},\n",
        "    'G' : {'F'}\n",
        "}\n",
        "p_assignment = PageRank(g_assignment)\n",
        "\n",
        "p_assignment.rank_calcutaion(10)\n",
        "print(p_assignment.ranks)\n",
        "print('________________')\n",
        "p_assignment = PageRank(g_assignment)\n",
        "p_assignment.rank_calcutaion(10, 'sum')\n",
        "p_assignment.ranks"
      ],
      "execution_count": 0,
      "outputs": [
        {
          "output_type": "stream",
          "text": [
            "{'A': 0.03523755541314452, 'B': 0.03641182806560498, 'C': 0.03246941111103958, 'D': 0.051898527931802496, 'E': 0.04795611097723709, 'F': 0.1086356292088083, 'G': 0.0732773380776633}\n",
            "________________\n"
          ],
          "name": "stdout"
        },
        {
          "output_type": "execute_result",
          "data": {
            "text/plain": [
              "{'A': 0.03523755541314452,\n",
              " 'B': 0.03641182806560498,\n",
              " 'C': 0.03246941111103958,\n",
              " 'D': 0.051898527931802496,\n",
              " 'E': 0.04795611097723709,\n",
              " 'F': 0.10863562920880832,\n",
              " 'G': 0.07327733807766329}"
            ]
          },
          "metadata": {
            "tags": []
          },
          "execution_count": 36
        }
      ]
    },
    {
      "cell_type": "code",
      "metadata": {
        "id": "etHP2buDNUGx",
        "colab_type": "code",
        "outputId": "f7dce5b9-6c23-4e1d-b70d-3f0381697482",
        "colab": {
          "base_uri": "https://localhost:8080/",
          "height": 136
        }
      },
      "source": [
        "p_assignment.sort_by_rank()"
      ],
      "execution_count": 0,
      "outputs": [
        {
          "output_type": "execute_result",
          "data": {
            "text/plain": [
              "[('F', 0.10863562920880832),\n",
              " ('G', 0.07327733807766329),\n",
              " ('D', 0.051898527931802496),\n",
              " ('E', 0.04795611097723709),\n",
              " ('B', 0.03641182806560498),\n",
              " ('A', 0.03523755541314452),\n",
              " ('C', 0.03246941111103958)]"
            ]
          },
          "metadata": {
            "tags": []
          },
          "execution_count": 37
        }
      ]
    }
  ]
}