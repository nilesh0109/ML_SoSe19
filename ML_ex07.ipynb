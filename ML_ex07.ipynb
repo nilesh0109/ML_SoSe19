{
  "nbformat": 4,
  "nbformat_minor": 0,
  "metadata": {
    "colab": {
      "name": "ML_ex07.ipynb",
      "version": "0.3.2",
      "provenance": [],
      "collapsed_sections": [],
      "include_colab_link": true
    },
    "kernelspec": {
      "name": "python3",
      "display_name": "Python 3"
    }
  },
  "cells": [
    {
      "cell_type": "markdown",
      "metadata": {
        "id": "view-in-github",
        "colab_type": "text"
      },
      "source": [
        "<a href=\"https://colab.research.google.com/github/nilesh0109/ML_SoSe19/blob/master/ML_ex07.ipynb\" target=\"_parent\"><img src=\"https://colab.research.google.com/assets/colab-badge.svg\" alt=\"Open In Colab\"/></a>"
      ]
    },
    {
      "cell_type": "code",
      "metadata": {
        "id": "y2Ern5W9lx2G",
        "colab_type": "code",
        "colab": {}
      },
      "source": [
        "import numpy as np\n",
        "import matplotlib.pyplot as plt\n",
        "import scipy"
      ],
      "execution_count": 0,
      "outputs": []
    },
    {
      "cell_type": "code",
      "metadata": {
        "id": "okq7yhCzl7ZN",
        "colab_type": "code",
        "colab": {}
      },
      "source": [
        "class K_Arm_Bandit:\n",
        "  def __init__(self, num_arms):\n",
        "    self.k = num_arms\n",
        "    self.a = np.arange(num_arms, dtype=np.int16)\n",
        "    self.N_a = np.zeros(num_arms, dtype=np.int16)\n",
        "    self.Q = np.zeros(num_arms, dtype=np.float16)\n",
        "    self.reset()\n",
        "  \n",
        "  def reset(self):\n",
        "    '''This r_dist_means gives us the mean of the Normal reward distribution which is in itself comes from a Normal distrubition with zero mean'''\n",
        "    self.r_dist_means = np.random.normal(size=10)\n",
        "  \n",
        "  def getReward(self, act):\n",
        "    ''' Fetches the reward from a normal distribution given the action index'''\n",
        "    return np.random.normal(self.r_dist_means[act])\n",
        "  \n",
        "  def get_rewards(act):\n",
        "    rand_mean = np.random.normal()\n",
        "    reward = np.random.normal(rand_mean)\n",
        "    return reward\n",
        "  \n",
        "  def play_epsilon_greedy(self, epsilon):\n",
        "    p = np.random.random()\n",
        "    if p > epsilon:\n",
        "      chosen_action = np.argmax(self.Q)\n",
        "    else:\n",
        "      chosen_action = np.random.choice(self.a)\n",
        "    self.step(chosen_action)\n",
        "  \n",
        "  def step(self, act):\n",
        "    self.N_a[act] += 1\n",
        "    received_reward = self.getReward(act)\n",
        "    self.Q[act] +=  (1 / self.N_a[act]) * (received_reward - self.Q[act])\n",
        "    #print('received action= {:d} received_reward ={:f}'.format(act, received_reward))\n",
        "    #print(self.Q)\n",
        "      \n",
        "    \n",
        "    "
      ],
      "execution_count": 0,
      "outputs": []
    },
    {
      "cell_type": "code",
      "metadata": {
        "id": "6JiaBy_VnZnn",
        "colab_type": "code",
        "colab": {
          "base_uri": "https://localhost:8080/",
          "height": 51
        },
        "outputId": "24b9008c-ec16-47bf-faa7-e9c0b7e4c7d3"
      },
      "source": [
        "testBed = K_Arm_Bandit(10)\n",
        "print(testBed.N_a)\n",
        "print(testBed.Q)"
      ],
      "execution_count": 74,
      "outputs": [
        {
          "output_type": "stream",
          "text": [
            "[0 0 0 0 0 0 0 0 0 0]\n",
            "[0. 0. 0. 0. 0. 0. 0. 0. 0. 0.]\n"
          ],
          "name": "stdout"
        }
      ]
    },
    {
      "cell_type": "code",
      "metadata": {
        "id": "FW3_gqrOrVgD",
        "colab_type": "code",
        "colab": {
          "base_uri": "https://localhost:8080/",
          "height": 34
        },
        "outputId": "2515be8b-ece6-4839-9535-ee5291fbcbbf"
      },
      "source": [
        "for i in range(10000):\n",
        "  testBed.play_epsilon_greedy(1)\n",
        "print(testBed.N_a)"
      ],
      "execution_count": 75,
      "outputs": [
        {
          "output_type": "stream",
          "text": [
            "[1026 1057  993 1010 1029  976 1023 1005  959  922]\n"
          ],
          "name": "stdout"
        }
      ]
    }
  ]
}