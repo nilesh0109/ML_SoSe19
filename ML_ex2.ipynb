{
  "nbformat": 4,
  "nbformat_minor": 0,
  "metadata": {
    "colab": {
      "name": "ML_ex2.ipynb",
      "version": "0.3.2",
      "provenance": [],
      "collapsed_sections": [],
      "toc_visible": true,
      "include_colab_link": true
    },
    "kernelspec": {
      "name": "python3",
      "display_name": "Python 3"
    }
  },
  "cells": [
    {
      "cell_type": "markdown",
      "metadata": {
        "id": "view-in-github",
        "colab_type": "text"
      },
      "source": [
        "<a href=\"https://colab.research.google.com/github/nilesh0109/ML_SoSe19/blob/master/ML_ex2.ipynb\" target=\"_parent\"><img src=\"https://colab.research.google.com/assets/colab-badge.svg\" alt=\"Open In Colab\"/></a>"
      ]
    },
    {
      "metadata": {
        "id": "rJP-iiPKp-9y",
        "colab_type": "text"
      },
      "cell_type": "markdown",
      "source": [
        "# **Machine Learning Assignment Number 2** <br> \n",
        "# **Nilesh Vijayrania**"
      ]
    },
    {
      "metadata": {
        "id": "5Phvp3Z6qC_m",
        "colab_type": "code",
        "colab": {}
      },
      "cell_type": "code",
      "source": [
        "import numpy as np\n",
        "import matplotlib.pyplot as plt"
      ],
      "execution_count": 0,
      "outputs": []
    },
    {
      "metadata": {
        "id": "zG1xi0sqonw7",
        "colab_type": "text"
      },
      "cell_type": "markdown",
      "source": [
        "# Plot the data"
      ]
    },
    {
      "metadata": {
        "id": "94Xf04c7gtOo",
        "colab_type": "code",
        "colab": {}
      },
      "cell_type": "code",
      "source": [
        "data = np.loadtxt('data.txt')\n",
        "positive_data= data[0:50,:2]\n",
        "negative_data= data[-50:,:2]\n"
      ],
      "execution_count": 0,
      "outputs": []
    },
    {
      "metadata": {
        "id": "LkAh6z80lQ1y",
        "colab_type": "code",
        "colab": {}
      },
      "cell_type": "code",
      "source": [
        "def plot_data():\n",
        "  plt.plot(positive_data[:,0], positive_data[:,1], 'bo', markerfacecolor='none', label='+ive')\n",
        "  plt.plot(negative_data[:,0], negative_data[:,1], 'ro', markerfacecolor='none', label='--ive')\n",
        "  "
      ],
      "execution_count": 0,
      "outputs": []
    },
    {
      "metadata": {
        "id": "EESNmxQtnAzr",
        "colab_type": "code",
        "colab": {
          "base_uri": "https://localhost:8080/",
          "height": 269
        },
        "outputId": "a5dee291-817b-4d20-e9fa-35c92397b8c0"
      },
      "cell_type": "code",
      "source": [
        "#plot initial data\n",
        "plot_data()\n",
        "plt.legend()\n",
        "plt.show()"
      ],
      "execution_count": 64,
      "outputs": [
        {
          "output_type": "display_data",
          "data": {
            "image/png": "[encoded data removed]",
            "text/plain": [
              "<Figure size 432x288 with 1 Axes>"
            ]
          },
          "metadata": {
            "tags": []
          }
        }
      ]
    },
    {
      "metadata": {
        "id": "i2cev4caosbO",
        "colab_type": "text"
      },
      "cell_type": "markdown",
      "source": [
        "# Initialize parameters"
      ]
    },
    {
      "metadata": {
        "id": "04hupCLbovXA",
        "colab_type": "code",
        "outputId": "f7866717-b6b8-4880-90b7-e31e694949b3",
        "colab": {
          "base_uri": "https://localhost:8080/",
          "height": 34
        }
      },
      "cell_type": "code",
      "source": [
        "initial_theta = np.random.uniform(-0.01,0.01,3)\n",
        "print('initial theta is ', theta)\n",
        "learning_rate = 0.01\n",
        "x1 = data[:,0]\n",
        "x2 = data[:,1]\n",
        "y =  data[:,2]"
      ],
      "execution_count": 34,
      "outputs": [
        {
          "output_type": "stream",
          "text": [
            "initial theta is  [12.98171307 -1.94283481  5.16251789]\n"
          ],
          "name": "stdout"
        }
      ]
    },
    {
      "metadata": {
        "id": "ad1GnXZ0j-M-",
        "colab_type": "code",
        "colab": {}
      },
      "cell_type": "code",
      "source": [
        "#Prediction function\n",
        "\n",
        "def predicted_y(th, x_corr):\n",
        "  return (-1 / th[2]) * (th[0] + th[1] * x_corr)"
      ],
      "execution_count": 0,
      "outputs": []
    },
    {
      "metadata": {
        "id": "2fBhzt1-nIoh",
        "colab_type": "code",
        "colab": {}
      },
      "cell_type": "code",
      "source": [
        "#updaing theta using gradient descend\n",
        "def gradient_desc(th, itr_count, lr):\n",
        "  for itr in np.arange(itr_count):\n",
        "    hx = th[0] + x1 * th[1] + th[2] * x2\n",
        "    gx = 1 / (1 + np.exp(-hx))\n",
        "    y_diff = np.array(y - gx).reshape(1, len(y))\n",
        "    temp = np.array([[1] * len(y), x1, x2]).T\n",
        "    temp1 = np.dot(y_diff, temp).reshape(3)  \n",
        "    th =  th + lr * temp1\n",
        "  return th"
      ],
      "execution_count": 0,
      "outputs": []
    },
    {
      "metadata": {
        "id": "NFETOAQ-o-PY",
        "colab_type": "code",
        "outputId": "cbb26b71-0c50-49eb-b55a-5cb114c2bd8a",
        "colab": {
          "base_uri": "https://localhost:8080/",
          "height": 34
        }
      },
      "cell_type": "code",
      "source": [
        "theta = gradient_desc(initial_theta, 5000, learning_rate)\n",
        "print('theta is ', theta)"
      ],
      "execution_count": 73,
      "outputs": [
        {
          "output_type": "stream",
          "text": [
            "theta is  [12.98173616 -1.94283884  5.1625267 ]\n"
          ],
          "name": "stdout"
        }
      ]
    },
    {
      "metadata": {
        "id": "ntmT_6mmmdJA",
        "colab_type": "code",
        "outputId": "d5ac145c-816b-41b1-eabf-a3c5bd806e74",
        "colab": {
          "base_uri": "https://localhost:8080/",
          "height": 378
        }
      },
      "cell_type": "code",
      "source": [
        "y_pred = predicted_y(theta, x1)\n",
        "\n",
        "plt.figure(figsize=(12, 6))\n",
        "plot_data()\n",
        "plt.plot(data[:,0], y_pred_initial, 'grey', label='Initial model')\n",
        "plt.plot(data[:,0], y_pred, 'g', label='Final model')\n",
        "plt.legend()\n",
        "plt.show()"
      ],
      "execution_count": 71,
      "outputs": [
        {
          "output_type": "display_data",
          "data": {
            "image/png": "[encoded data removed]",
            "text/plain": [
              "<Figure size 864x432 with 1 Axes>"
            ]
          },
          "metadata": {
            "tags": []
          }
        }
      ]
    },
    {
      "metadata": {
        "id": "jd-y7OucoCtc",
        "colab_type": "text"
      },
      "cell_type": "markdown",
      "source": [
        "# REPORT"
      ]
    },
    {
      "metadata": {
        "id": "xaUy_0_5oIvC",
        "colab_type": "text"
      },
      "cell_type": "markdown",
      "source": [
        "we have trained a linear classifer model which is segregating the positive and negative datapoints linearly.\n",
        "\n",
        "For the trained model , the final parameters are <br>\n",
        "**theta[0] = 12.98173616 <br>\n",
        "theta[1] = -1.94283884 <br>\n",
        "theta[2] = 5.1625267 <br> **\n",
        "and our classifer function is predicting y, for the given x as <br>\n",
        "**y = -1 / theta[2] / (theta[0] + theta[1] * x) ** \n",
        "\n",
        "The  green line shown in the graph above is the prediction from our final model and the grey line shows the initial prediction by the model.\n",
        "We trained the model for 5000 iteration to improve the value of theta and updated the theta using graident descend."
      ]
    }
  ]
}